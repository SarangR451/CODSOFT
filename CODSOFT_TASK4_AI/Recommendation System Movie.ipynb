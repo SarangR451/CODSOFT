{
 "cells": [
  {
   "cell_type": "code",
   "execution_count": 6,
   "id": "82eddbc1-d485-4273-8035-8391d1278557",
   "metadata": {},
   "outputs": [
    {
     "name": "stdout",
     "output_type": "stream",
     "text": [
      "Recommended movies: ['U-571', 'John Carter', 'The Man from U.N.C.L.E.', 'Universal Soldier: The Return', 'The Man in the Iron Mask', 'La niña santa', 'Walk Hard: The Dewey Cox Story', 'Star Trek: The Motion Picture', 'Resident Evil: Retribution', 'Avengers: Age of Ultron']\n"
     ]
    }
   ],
   "source": [
    "import pandas as pd\n",
    "from sklearn.feature_extraction.text import TfidfVectorizer\n",
    "from sklearn.metrics.pairwise import cosine_similarity\n",
    "\n",
    "\n",
    "df = pd.read_csv(\"tmdb_5000_movies.csv\", engine=\"python\")\n",
    "df = df[[\"genres\", \"original_title\",]].dropna().reset_index(drop=True)\n",
    "df = df[:5500]\n",
    "\n",
    "\n",
    "df['genres'] = df['genres'].str.replace('[', '', regex=False).str.replace(']', '', regex=False).str.replace(\"'\", \"\", regex=False).str.replace(',', ' ', regex=False)\n",
    "df['genres'] = df['genres'].str.lower()\n",
    "\n",
    "tfidf = TfidfVectorizer(stop_words='english')\n",
    "\n",
    "\n",
    "tfidf_matrix = tfidf.fit_transform(df['genres'])\n",
    "\n",
    "\n",
    "similarity_matrix = cosine_similarity(tfidf_matrix, tfidf_matrix)\n",
    "\n",
    "def recommend_by_cat(cat, num_recommendations=10):\n",
    "\n",
    "    filtered_df = df[df['genres'].str.contains(cat.lower(), case=False)]\n",
    "    \n",
    "    if filtered_df.empty:\n",
    "        return f\"No movie found '{cat}'.\"\n",
    "    \n",
    "\n",
    "    recommended_product = []\n",
    "\n",
    "    for idx in filtered_df.index:\n",
    "\n",
    "        sim_scores = list(enumerate(similarity_matrix[idx]))\n",
    "        \n",
    "\n",
    "        sim_scores = sorted(sim_scores, key=lambda x: x[1], reverse=True)\n",
    "        \n",
    "\n",
    "        sim_scores = sim_scores[1:num_recommendations + 1]  \n",
    "        \n",
    "\n",
    "        product_indices = [i[0] for i in sim_scores]\n",
    "        pro = df['original_title'].iloc[product_indices].tolist()\n",
    "        recommended_product.extend(pro)\n",
    "    \n",
    "\n",
    "    recommended_product = list(set(recommended_product))\n",
    "    \n",
    "    return recommended_product[:num_recommendations]\n",
    "\n",
    "\n",
    "recommended_product = recommend_by_cat(\"Action\", num_recommendations=10)\n",
    "print(\"Recommended movies:\", recommended_product)"
   ]
  },
  {
   "cell_type": "code",
   "execution_count": null,
   "id": "2a971ba1-7f66-4ba8-a91f-7b5eea542497",
   "metadata": {},
   "outputs": [],
   "source": []
  }
 ],
 "metadata": {
  "kernelspec": {
   "display_name": "Python 3 (ipykernel)",
   "language": "python",
   "name": "python3"
  },
  "language_info": {
   "codemirror_mode": {
    "name": "ipython",
    "version": 3
   },
   "file_extension": ".py",
   "mimetype": "text/x-python",
   "name": "python",
   "nbconvert_exporter": "python",
   "pygments_lexer": "ipython3",
   "version": "3.11.7"
  }
 },
 "nbformat": 4,
 "nbformat_minor": 5
}
